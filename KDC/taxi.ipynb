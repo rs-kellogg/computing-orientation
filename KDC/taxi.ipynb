{
 "cells": [
  {
   "cell_type": "markdown",
   "metadata": {},
   "source": [
    "\n",
    "# SQL Primer: Taxi Trip Data Example\n",
    "#     Accessing KDC Data from Python    \n",
    "\n",
    "## Main Questions: Does the proximity of taxi ride pickup locations to tourist locations effect total ride cost?\n",
    "## 1.) Import Taxi Data from KDC\n",
    "## 2.) Reformat Data to Answer Question\n",
    "## 3.) Run a Linear Regression\n"
   ]
  },
  {
   "cell_type": "code",
   "execution_count": 2,
   "metadata": {},
   "outputs": [],
   "source": [
    "# import and load packages\n",
    "\n",
    "import os\n",
    "import pyodbc\n",
    "import textwrap\n",
    "from getpass import getpass\n",
    "import pandas as pd\n",
    "import numpy as np\n",
    "import statsmodels.formula.api as smf\n",
    "import statsmodels.api as sm\n",
    "from geopy.distance import distance\n",
    "from geopy.geocoders import Nominatim\n",
    "import matplotlib.pyplot as plt\n",
    "import warnings\n",
    "warnings.filterwarnings(\"ignore\", category=DeprecationWarning)\n",
    "\n",
    "%matplotlib inline\n",
    "\n",
    "try:\n",
    "    os.environ['ODBCSYSINI']\n",
    "except KeyError:\n",
    "    os.environ['ODBCSYSINI']='/home/rwn8669/.odbc'"
   ]
  },
  {
   "cell_type": "code",
   "execution_count": 3,
   "metadata": {},
   "outputs": [
    {
     "name": "stdout",
     "output_type": "stream",
     "text": [
      "NetID password: ········\n"
     ]
    }
   ],
   "source": [
    "# get KDC02 credentials\n",
    "\n",
    "USER = 'kellogg\\\\rwn8669'\n",
    "PASSWORD = getpass('NetID password: ')"
   ]
  },
  {
   "cell_type": "code",
   "execution_count": 4,
   "metadata": {
    "collapsed": true
   },
   "outputs": [],
   "source": [
    "# establish KDC02 connection and cursor\n",
    "\n",
    "conn = pyodbc.connect('DSN=kdc-tds;Database=TAXI_NYC;UID='+USER+';PWD='+PASSWORD)\n",
    "cursor = conn.cursor()"
   ]
  },
  {
   "cell_type": "code",
   "execution_count": 4,
   "metadata": {},
   "outputs": [
    {
     "name": "stdout",
     "output_type": "stream",
     "text": [
      "173179759\n",
      "173179759\n"
     ]
    }
   ],
   "source": [
    "# count observations/rows\n",
    "\n",
    "cursor.execute(\"SELECT COUNT(*) FROM TAXI_NYC.dbo.SRC_FareData\")\n",
    "taxi_fare_count = cursor.fetchone()[0]\n",
    "print(taxi_fare_count)\n",
    "\n",
    "cursor.execute(\"SELECT COUNT(*) FROM TAXI_NYC.dbo.SRC_TripData\")\n",
    "taxi_trip_count = cursor.fetchone()[0]\n",
    "print(taxi_trip_count)"
   ]
  },
  {
   "cell_type": "code",
   "execution_count": 5,
   "metadata": {
    "collapsed": true
   },
   "outputs": [],
   "source": [
    "# Preview the first 1000 Observations\n",
    "\n",
    "cursor.execute(\"SELECT TOP 1000 * FROM TAXI_NYC.dbo.SRC_FareData\")\n",
    "taxi_fare = cursor.fetchall()\n",
    "cursor.execute(\"SELECT TOP 1000 * FROM TAXI_NYC.dbo.SRC_TripData\")\n",
    "taxi_trip = cursor.fetchall()"
   ]
  },
  {
   "cell_type": "code",
   "execution_count": 7,
   "metadata": {
    "collapsed": true
   },
   "outputs": [],
   "source": [
    "# Join the Fare and Trip Datasets\n",
    "sql = textwrap.dedent(\"\"\"\n",
    "  SELECT TOP 1000 * FROM TAXI_NYC.dbo.SRC_TripData as Trip\n",
    "    LEFT OUTER JOIN TAXI_NYC.dbo.SRC_FareData as Fare\n",
    "    ON (Trip.hack_license = Fare.[ hack_license])\n",
    "    AND (Trip.medallion = Fare.medallion)\n",
    "    AND (Trip.vendor_id = Fare.[ vendor_id])\n",
    "    AND (Trip.pickup_datetime = Fare.[ pickup_datetime])\n",
    "\"\"\")"
   ]
  },
  {
   "cell_type": "code",
   "execution_count": 8,
   "metadata": {},
   "outputs": [],
   "source": [
    "#read results into pandas dataframe\n",
    "\n",
    "taxi_df = pd.read_sql(sql,conn)"
   ]
  },
  {
   "cell_type": "code",
   "execution_count": 9,
   "metadata": {},
   "outputs": [
    {
     "name": "stdout",
     "output_type": "stream",
     "text": [
      "['medallion', 'hack_license', 'vendor_id', 'rate_code', 'store_and_fwd_flag', 'pickup', 'dropoff', 'passenger_count', 'trip_time_in_secs', 'trip_distance', 'pickup_longitude', 'pickup_latitude', 'dropoff_longitude', 'dropoff_latitude', 'medallion', 'hack_license', 'vendor_id', 'pickup_datetime', 'payment_type', 'fare_amount', 'surcharge', 'mta_tax', 'tip_amount', 'tolls_amount', 'total_amount']\n"
     ]
    }
   ],
   "source": [
    "# rename pickup and dropoff columns\n",
    "taxi_df = taxi_df.rename(index=str, columns={\"pickup_datetime\":\"pickup\", \"dropoff_datetime\":\"dropoff\"})\n",
    "\n",
    "# remove extra spaces from column names\n",
    "taxi_df = taxi_df.rename(columns=lambda x: x.strip())\n",
    "\n",
    "# print column list\n",
    "print(list(taxi_df))"
   ]
  },
  {
   "cell_type": "code",
   "execution_count": 10,
   "metadata": {},
   "outputs": [
    {
     "name": "stdout",
     "output_type": "stream",
     "text": [
      "Condé Nast Building, 4, Times Square, Manhattan, Manhattan Community Board 5, New York County, NYC, New York, NY 10036, USA\n",
      "(40.75604035, -73.9857229817594)\n"
     ]
    }
   ],
   "source": [
    "# get geolocation for Nasdaq sign in Time Square NYC\n",
    "geolocator = Nominatim()\n",
    "location = geolocator.geocode('4 Times Square, NYC')\n",
    "location_coord = (location.latitude,location.longitude)\n",
    "print(location)\n",
    "print(location_coord)"
   ]
  },
  {
   "cell_type": "code",
   "execution_count": 11,
   "metadata": {},
   "outputs": [
    {
     "name": "stdout",
     "output_type": "stream",
     "text": [
      "pickup_longitude\n",
      "0    -73.976448\n",
      "1    -73.961472\n",
      "2    -74.007874\n",
      "3    -73.983002\n",
      "4    -73.954910\n",
      "5    -73.873512\n",
      "6    -73.978462\n",
      "7    -73.993019\n",
      "8    -73.949837\n",
      "9    -74.006172\n",
      "10   -73.980118\n",
      "11   -73.977257\n",
      "12   -73.971458\n",
      "13   -74.007339\n",
      "14   -73.989754\n",
      "Name: pickup_longitude, dtype: float64\n",
      "geo_trip_distance\n",
      "0      1.022649\n",
      "1      0.710017\n",
      "2      8.808102\n",
      "3      1.161386\n",
      "4      1.595124\n",
      "5     10.058983\n",
      "6      0.497375\n",
      "7      2.222267\n",
      "8      2.050252\n",
      "9      1.214956\n",
      "10     1.179302\n",
      "11     0.884905\n",
      "12     0.976987\n",
      "13     4.429546\n",
      "14     0.656914\n",
      "Name: geo_trip_distance, dtype: float64\n",
      "trip_distance\n",
      "0      1.10\n",
      "1       .70\n",
      "2     12.40\n",
      "3      1.50\n",
      "4      1.60\n",
      "5     17.00\n",
      "6       .70\n",
      "7      3.20\n",
      "8      3.40\n",
      "9      1.40\n",
      "10     1.50\n",
      "11      .80\n",
      "12     1.30\n",
      "13     7.20\n",
      "14     1.10\n",
      "Name: trip_distance, dtype: object\n"
     ]
    }
   ],
   "source": [
    "# create pickup_lat_long column\n",
    "pickup_latitude = pd.to_numeric(taxi_df['pickup_latitude'])\n",
    "pickup_longitude = pd.to_numeric(taxi_df['pickup_longitude'])\n",
    "print('pickup_longitude')\n",
    "print(pickup_longitude[0:15])\n",
    "\n",
    "taxi_df['pickup_lat_long'] =  list(zip(pickup_latitude,pickup_longitude))\n",
    "\n",
    "# create dropoff_lat_long column\n",
    "dropoff_latitude = pd.to_numeric(taxi_df['dropoff_latitude'])\n",
    "dropoff_longitude = pd.to_numeric(taxi_df['dropoff_longitude'])\n",
    "\n",
    "taxi_df['dropoff_lat_long'] =  list(zip(dropoff_latitude,dropoff_longitude))\n",
    "\n",
    "# get geographic trip distance\n",
    "taxi_df['geo_trip_distance'] = taxi_df.apply(lambda x: distance(x['pickup_lat_long'],x['dropoff_lat_long']).miles, axis=1)\n",
    "print('geo_trip_distance')\n",
    "print(taxi_df['geo_trip_distance'][0:15])\n",
    "print('trip_distance')\n",
    "print(taxi_df['trip_distance'][0:15])\n",
    "\n",
    "# calculate miles from pickup location to Times Square\n",
    "taxi_df['miles_to_location'] = taxi_df['pickup_lat_long'].apply(lambda x: distance(location_coord, x).miles)\n",
    "#print(taxi_df['miles_to_location'][0:15])\n",
    "\n",
    "# remove errant distance data\n",
    "taxi_df.loc[taxi_df['miles_to_location'] > 5000, 'miles_to_location'] = np.nan\n",
    "#print(taxi_df['miles_to_location'][0:15])\n",
    "\n",
    "# convert total_amount to float\n",
    "taxi_df['total_amount'] = taxi_df['total_amount'].astype(float)"
   ]
  },
  {
   "cell_type": "code",
   "execution_count": 13,
   "metadata": {
    "collapsed": true
   },
   "outputs": [],
   "source": [
    "# Perform regression\n",
    "lm = smf.ols(formula='total_amount ~ miles_to_location', data=taxi_df).fit()"
   ]
  },
  {
   "cell_type": "code",
   "execution_count": 14,
   "metadata": {},
   "outputs": [
    {
     "name": "stdout",
     "output_type": "stream",
     "text": [
      "Intercept            9.485703\n",
      "miles_to_location    3.371946\n",
      "dtype: float64\n",
      "0.24415506158134515\n"
     ]
    }
   ],
   "source": [
    "# print the coefficients\n",
    "print(lm.params)\n",
    "\n",
    "# print rsquared\n",
    "print(lm.rsquared)"
   ]
  },
  {
   "cell_type": "code",
   "execution_count": 15,
   "metadata": {},
   "outputs": [
    {
     "data": {
      "text/plain": [
       "[<matplotlib.lines.Line2D at 0x2b00094e9da0>]"
      ]
     },
     "execution_count": 15,
     "metadata": {},
     "output_type": "execute_result"
    },
    {
     "data": {
      "image/png": "[encoded data removed]",
      "text/plain": [
       "<matplotlib.figure.Figure at 0x2b00094d75c0>"
      ]
     },
     "metadata": {},
     "output_type": "display_data"
    }
   ],
   "source": [
    "# plot data and least squares for data\n",
    "taxi_df.plot(kind='scatter', x='miles_to_location', y='total_amount')\n",
    "X = taxi_df['miles_to_location']\n",
    "Y = lm.predict(X)\n",
    "plt.plot(X, Y, c='red', linewidth=2)"
   ]
  },
  {
   "cell_type": "markdown",
   "metadata": {
    "collapsed": true
   },
   "source": [
    "## To make this analysis meaningful you would need to examine trips with similar geospatial distance. \n",
    "## How would you limit the data to trips of a certain distance range?"
   ]
  }
 ],
 "metadata": {
  "kernelspec": {
   "display_name": "Python 3",
   "language": "python",
   "name": "python3"
  },
  "language_info": {
   "codemirror_mode": {
    "name": "ipython",
    "version": 3
   },
   "file_extension": ".py",
   "mimetype": "text/x-python",
   "name": "python",
   "nbconvert_exporter": "python",
   "pygments_lexer": "ipython3",
   "version": "3.6.8"
  }
 },
 "nbformat": 4,
 "nbformat_minor": 2
}
