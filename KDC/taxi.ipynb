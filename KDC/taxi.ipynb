{
 "cells": [
  {
   "cell_type": "markdown",
   "metadata": {},
   "source": [
    "\n",
    "# Accessing KDC Data from Python    \n",
    "\n",
    "### Main Questions: Does the proximity of taxi ride pickup locations to tourist locations effect total ride cost?\n",
    "### 1.) Import Taxi Data from KDC\n",
    "### 2.) Reformat Data to Answer Question\n",
    "### 3.) Run a Linear Regression\n"
   ]
  },
  {
   "cell_type": "markdown",
   "metadata": {},
   "source": [
    "### First we can load the necessary python packages/libraries to run our code. "
   ]
  },
  {
   "cell_type": "code",
   "execution_count": 1,
   "metadata": {
    "collapsed": false
   },
   "outputs": [],
   "source": [
    "import os\n",
    "import pyodbc\n",
    "#import textwrap\n",
    "from getpass import getpass\n",
    "#import pandas as pd\n",
    "#import numpy as np\n",
    "#import statsmodels.formula.api as smf\n",
    "#import statsmodels.api as sm\n",
    "#from geopy.distance import distance\n",
    "#from geopy.geocoders import Nominatim\n",
    "#import matplotlib.pyplot as plt\n",
    "#import warnings\n",
    "#warnings.filterwarnings(\"ignore\", category=DeprecationWarning)\n",
    "\n",
    "#%matplotlib inline\n",
    "\n",
    "try:\n",
    "    os.environ['ODBCSYSINI']\n",
    "except KeyError:\n",
    "    os.environ['ODBCSYSINI']='/home/awc6034/.odbc'"
   ]
  },
  {
   "cell_type": "markdown",
   "metadata": {},
   "source": [
    "### You will need to install some of these packages on KLC.  You can do so with the following command:"
   ]
  },
  {
   "cell_type": "code",
   "execution_count": null,
   "metadata": {
    "collapsed": true
   },
   "outputs": [],
   "source": [
    "pip install --user <package name>"
   ]
  },
  {
   "cell_type": "markdown",
   "metadata": {},
   "source": [
    "### Next, please enter your KDC credentials here."
   ]
  },
  {
   "cell_type": "code",
   "execution_count": 2,
   "metadata": {
    "collapsed": false
   },
   "outputs": [
    {
     "name": "stdout",
     "output_type": "stream",
     "text": [
      "NetID password: ········\n"
     ]
    }
   ],
   "source": [
    "USER = 'kellogg\\\\awc6034'\n",
    "PASSWORD = getpass('NetID password: ')"
   ]
  },
  {
   "cell_type": "markdown",
   "metadata": {},
   "source": [
    "### Finally, we can establish a KDC connection."
   ]
  },
  {
   "cell_type": "code",
   "execution_count": 3,
   "metadata": {
    "collapsed": true
   },
   "outputs": [],
   "source": [
    "conn = pyodbc.connect('DSN=kdc-tds;Database=TAXI_NYC;UID='+USER+';PWD='+PASSWORD)\n",
    "cursor = conn.cursor()"
   ]
  },
  {
   "cell_type": "markdown",
   "metadata": {
    "collapsed": true
   },
   "source": [
    "### Now we can count the number of observations in both Taxi data tables. "
   ]
  },
  {
   "cell_type": "code",
   "execution_count": 4,
   "metadata": {
    "collapsed": false
   },
   "outputs": [
    {
     "name": "stdout",
     "output_type": "stream",
     "text": [
      "173179759\n",
      "173179759\n"
     ]
    }
   ],
   "source": [
    "cursor.execute(\"SELECT COUNT(*) FROM TAXI_NYC.dbo.SRC_FareData\")\n",
    "taxi_fare_count = cursor.fetchone()[0]\n",
    "print(taxi_fare_count)\n",
    "\n",
    "cursor.execute(\"SELECT COUNT(*) FROM TAXI_NYC.dbo.SRC_TripData\")\n",
    "taxi_trip_count = cursor.fetchone()[0]\n",
    "print(taxi_trip_count)"
   ]
  },
  {
   "cell_type": "markdown",
   "metadata": {
    "collapsed": true
   },
   "source": [
    "### PLEASE FEEL FREE TO REVIEW THE REMAINDER OF THIS NOTEBOOK LATER."
   ]
  },
  {
   "cell_type": "code",
   "execution_count": null,
   "metadata": {
    "collapsed": true
   },
   "outputs": [],
   "source": [
    "# Preview the first 1000 Observations\n",
    "\n",
    "cursor.execute(\"SELECT TOP 1000 * FROM TAXI_NYC.dbo.SRC_FareData\")\n",
    "taxi_fare = cursor.fetchall()\n",
    "cursor.execute(\"SELECT TOP 1000 * FROM TAXI_NYC.dbo.SRC_TripData\")\n",
    "taxi_trip = cursor.fetchall()"
   ]
  },
  {
   "cell_type": "code",
   "execution_count": null,
   "metadata": {
    "collapsed": true
   },
   "outputs": [],
   "source": [
    "# Join the Fare and Trip Datasets\n",
    "sql = textwrap.dedent(\"\"\"\n",
    "  SELECT TOP 1000 * FROM TAXI_NYC.dbo.SRC_TripData as Trip\n",
    "    LEFT OUTER JOIN TAXI_NYC.dbo.SRC_FareData as Fare\n",
    "    ON (Trip.hack_license = Fare.[ hack_license])\n",
    "    AND (Trip.medallion = Fare.medallion)\n",
    "    AND (Trip.vendor_id = Fare.[ vendor_id])\n",
    "    AND (Trip.pickup_datetime = Fare.[ pickup_datetime])\n",
    "\"\"\")"
   ]
  },
  {
   "cell_type": "code",
   "execution_count": null,
   "metadata": {
    "collapsed": true
   },
   "outputs": [],
   "source": [
    "#read results into pandas dataframe\n",
    "\n",
    "taxi_df = pd.read_sql(sql,conn)"
   ]
  },
  {
   "cell_type": "code",
   "execution_count": null,
   "metadata": {
    "collapsed": false
   },
   "outputs": [],
   "source": [
    "# rename pickup and dropoff columns\n",
    "taxi_df = taxi_df.rename(index=str, columns={\"pickup_datetime\":\"pickup\", \"dropoff_datetime\":\"dropoff\"})\n",
    "\n",
    "# remove extra spaces from column names\n",
    "taxi_df = taxi_df.rename(columns=lambda x: x.strip())\n",
    "\n",
    "# print column list\n",
    "print(list(taxi_df))"
   ]
  },
  {
   "cell_type": "code",
   "execution_count": null,
   "metadata": {
    "collapsed": false
   },
   "outputs": [],
   "source": [
    "# get geolocation for Nasdaq sign in Time Square NYC\n",
    "geolocator = Nominatim()\n",
    "location = geolocator.geocode('4 Times Square, NYC')\n",
    "location_coord = (location.latitude,location.longitude)\n",
    "print(location)\n",
    "print(location_coord)"
   ]
  },
  {
   "cell_type": "code",
   "execution_count": null,
   "metadata": {
    "collapsed": false
   },
   "outputs": [],
   "source": [
    "# create pickup_lat_long column\n",
    "pickup_latitude = pd.to_numeric(taxi_df['pickup_latitude'])\n",
    "pickup_longitude = pd.to_numeric(taxi_df['pickup_longitude'])\n",
    "print('pickup_longitude')\n",
    "print(pickup_longitude[0:15])\n",
    "\n",
    "taxi_df['pickup_lat_long'] =  list(zip(pickup_latitude,pickup_longitude))\n",
    "\n",
    "# create dropoff_lat_long column\n",
    "dropoff_latitude = pd.to_numeric(taxi_df['dropoff_latitude'])\n",
    "dropoff_longitude = pd.to_numeric(taxi_df['dropoff_longitude'])\n",
    "\n",
    "taxi_df['dropoff_lat_long'] =  list(zip(dropoff_latitude,dropoff_longitude))\n",
    "\n",
    "# get geographic trip distance\n",
    "taxi_df['geo_trip_distance'] = taxi_df.apply(lambda x: distance(x['pickup_lat_long'],x['dropoff_lat_long']).miles, axis=1)\n",
    "print('geo_trip_distance')\n",
    "print(taxi_df['geo_trip_distance'][0:15])\n",
    "print('trip_distance')\n",
    "print(taxi_df['trip_distance'][0:15])\n",
    "\n",
    "# calculate miles from pickup location to Times Square\n",
    "taxi_df['miles_to_location'] = taxi_df['pickup_lat_long'].apply(lambda x: distance(location_coord, x).miles)\n",
    "#print(taxi_df['miles_to_location'][0:15])\n",
    "\n",
    "# remove errant distance data\n",
    "taxi_df.loc[taxi_df['miles_to_location'] > 5000, 'miles_to_location'] = np.nan\n",
    "#print(taxi_df['miles_to_location'][0:15])\n",
    "\n",
    "# convert total_amount to float\n",
    "taxi_df['total_amount'] = taxi_df['total_amount'].astype(float)"
   ]
  },
  {
   "cell_type": "code",
   "execution_count": null,
   "metadata": {
    "collapsed": true
   },
   "outputs": [],
   "source": [
    "# Perform regression\n",
    "lm = smf.ols(formula='total_amount ~ miles_to_location', data=taxi_df).fit()"
   ]
  },
  {
   "cell_type": "code",
   "execution_count": null,
   "metadata": {
    "collapsed": false
   },
   "outputs": [],
   "source": [
    "# print the coefficients\n",
    "print(lm.params)\n",
    "\n",
    "# print rsquared\n",
    "print(lm.rsquared)"
   ]
  },
  {
   "cell_type": "code",
   "execution_count": null,
   "metadata": {
    "collapsed": false
   },
   "outputs": [],
   "source": [
    "# plot data and least squares for data\n",
    "taxi_df.plot(kind='scatter', x='miles_to_location', y='total_amount')\n",
    "X = taxi_df['miles_to_location']\n",
    "Y = lm.predict(X)\n",
    "plt.plot(X, Y, c='red', linewidth=2)"
   ]
  },
  {
   "cell_type": "markdown",
   "metadata": {
    "collapsed": true
   },
   "source": [
    "## To make this analysis meaningful you would need to examine trips with similar geospatial distance. \n",
    "## How would you limit the data to trips of a certain distance range?"
   ]
  }
 ],
 "metadata": {
  "kernelspec": {
   "display_name": "Python 3",
   "language": "python",
   "name": "python3"
  },
  "language_info": {
   "codemirror_mode": {
    "name": "ipython",
    "version": 3
   },
   "file_extension": ".py",
   "mimetype": "text/x-python",
   "name": "python",
   "nbconvert_exporter": "python",
   "pygments_lexer": "ipython3",
   "version": "3.6.0"
  }
 },
 "nbformat": 4,
 "nbformat_minor": 2
}
